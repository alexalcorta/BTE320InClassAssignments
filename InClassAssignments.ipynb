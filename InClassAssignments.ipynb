{
  "nbformat": 4,
  "nbformat_minor": 0,
  "metadata": {
    "colab": {
      "provenance": [],
      "authorship_tag": "ABX9TyPo5usZR87pTAQXrnzwxSyZ",
      "include_colab_link": true
    },
    "kernelspec": {
      "name": "python3",
      "display_name": "Python 3"
    },
    "language_info": {
      "name": "python"
    }
  },
  "cells": [
    {
      "cell_type": "markdown",
      "metadata": {
        "id": "view-in-github",
        "colab_type": "text"
      },
      "source": [
        "<a href=\"https://colab.research.google.com/github/alexalcorta/BTE320InClassAssignments/blob/main/InClassAssignments.ipynb\" target=\"_parent\"><img src=\"https://colab.research.google.com/assets/colab-badge.svg\" alt=\"Open In Colab\"/></a>"
      ]
    },
    {
      "cell_type": "code",
      "execution_count": null,
      "metadata": {
        "colab": {
          "base_uri": "https://localhost:8080/"
        },
        "id": "wEyc-oeNkJ8M",
        "outputId": "a70fc149-b9fa-4317-832b-b4f8c2ce9dad"
      },
      "outputs": [
        {
          "output_type": "stream",
          "name": "stdout",
          "text": [
            "244.92000000000002\n"
          ]
        }
      ],
      "source": [
        "# Calculate Surface Area Cylinder\n",
        "h = 10 # Pi\n",
        "r = 3 # Radius\n",
        "pi = 3.14 # Height\n",
        "\n",
        "# Calc Area\n",
        "area = 2 * pi * r ** 2 + 2 * pi * r * h\n",
        "# Display Result on Screen\n",
        "print(area)"
      ]
    },
    {
      "cell_type": "code",
      "source": [
        "p1 = input('Enter Move P1 (R->Rock, P->Paper, S->Scissor):')\n",
        "p2 = input('Enter Move P2 (R->Rock, P->Paper, S->Scissor):')\n",
        "\n",
        "if p1 == p2:\n",
        "  print('Draw')\n",
        "\n",
        "elif p1 == 'R' and p2 == 'S':\n",
        "  print('p1 wins')\n",
        "\n",
        "elif p1 == 'P' and p2 == 'R':\n",
        "  print('p1 wins')\n",
        "\n",
        "elif p1 == 'S' and p2 == 'P':\n",
        "  print ('p1 wins')\n",
        "\n",
        "else:\n",
        "  print ('p2 wins')"
      ],
      "metadata": {
        "colab": {
          "base_uri": "https://localhost:8080/"
        },
        "id": "LXFrB42csP4W",
        "outputId": "351347fa-b6bc-4b18-db58-38adb200ab4c"
      },
      "execution_count": null,
      "outputs": [
        {
          "output_type": "stream",
          "name": "stdout",
          "text": [
            "Enter Move P1 (R->Rock, P->Paper, S->Scissor):P\n",
            "Enter Move P2 (R->Rock, P->Paper, S->Scissor):S\n",
            "p2 wins\n"
          ]
        }
      ]
    },
    {
      "cell_type": "code",
      "source": [
        "input1 = float(input('Enter First Number:'))\n",
        "input2 = float(input('Enter Second Numner:'))\n",
        "input3 = input('Function(+,-,*,/,**):')\n",
        "\n",
        "\n",
        "if input3 == '+':\n",
        "  print( input1 + input2)\n",
        "\n",
        "elif input3 == '-':\n",
        "  print(input1 - input2)\n",
        "\n",
        "elif input3 == '*':\n",
        "  print(input1 * input2)\n",
        "\n",
        "elif input3 == '/':\n",
        "  print(input1 / input2)\n",
        "\n",
        "else:\n",
        "  print(input1 ** input2)\n"
      ],
      "metadata": {
        "id": "inC4zuMuxRTP",
        "colab": {
          "base_uri": "https://localhost:8080/"
        },
        "outputId": "42845fa0-7d05-41d3-a4b9-f650cdbcd2c6"
      },
      "execution_count": null,
      "outputs": [
        {
          "output_type": "stream",
          "name": "stdout",
          "text": [
            "Enter First Number:1\n",
            "Enter Second Numner:2\n",
            "Function(+,-,*,/,**):+\n",
            "3.0\n"
          ]
        }
      ]
    },
    {
      "cell_type": "code",
      "source": [
        "i = input('Do you want to play rock, paper, scissors?')\n",
        "\n",
        "while i == 'yes':\n",
        "\n",
        "  p1 = input('Enter Move P1 (R->Rock, P->Paper, S->Scissor):')\n",
        "  p2 = input('Enter Move P2 (R->Rock, P->Paper, S->Scissor):')\n",
        "\n",
        "  if p1 == p2:\n",
        "    print('Draw')\n",
        "\n",
        "  elif p1 == 'R' and p2 == 'S':\n",
        "    print('p1 wins')\n",
        "\n",
        "  elif p1 == 'P' and p2 == 'R':\n",
        "    print('p1 wins')\n",
        "\n",
        "  elif p1 == 'S' and p2 == 'P':\n",
        "    print ('p1 wins')\n",
        "\n",
        "  else:\n",
        "      print ('p2 wins')\n",
        "  i = input('Do you want to play another gane?')"
      ],
      "metadata": {
        "id": "H4MES-rG_2gl",
        "colab": {
          "base_uri": "https://localhost:8080/"
        },
        "outputId": "be4e5222-cc51-4148-df02-2ca4c2a2a9d6"
      },
      "execution_count": 25,
      "outputs": [
        {
          "name": "stdout",
          "output_type": "stream",
          "text": [
            "Do you want to play rock, paper, scissors?yes\n",
            "Enter Move P1 (R->Rock, P->Paper, S->Scissor):R\n",
            "Enter Move P2 (R->Rock, P->Paper, S->Scissor):S\n",
            "p1 wins\n",
            "Do you want to play another gane?yes\n",
            "Enter Move P1 (R->Rock, P->Paper, S->Scissor):R\n",
            "Enter Move P2 (R->Rock, P->Paper, S->Scissor):P\n",
            "p2 wins\n",
            "Do you want to play another gane?no\n"
          ]
        }
      ]
    },
    {
      "cell_type": "code",
      "source": [],
      "metadata": {
        "id": "n9OQ8Ks21HZn"
      },
      "execution_count": 25,
      "outputs": []
    }
  ]
}