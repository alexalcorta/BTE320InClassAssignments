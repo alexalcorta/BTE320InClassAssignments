{
  "nbformat": 4,
  "nbformat_minor": 0,
  "metadata": {
    "colab": {
      "provenance": [],
      "authorship_tag": "ABX9TyOtrB20ShJwjUhbP9P9hK96",
      "include_colab_link": true
    },
    "kernelspec": {
      "name": "python3",
      "display_name": "Python 3"
    },
    "language_info": {
      "name": "python"
    }
  },
  "cells": [
    {
      "cell_type": "markdown",
      "metadata": {
        "id": "view-in-github",
        "colab_type": "text"
      },
      "source": [
        "<a href=\"https://colab.research.google.com/github/alexalcorta/BTE320InClassAssignments/blob/main/InClassAssignments.ipynb\" target=\"_parent\"><img src=\"https://colab.research.google.com/assets/colab-badge.svg\" alt=\"Open In Colab\"/></a>"
      ]
    },
    {
      "cell_type": "code",
      "execution_count": null,
      "metadata": {
        "colab": {
          "base_uri": "https://localhost:8080/"
        },
        "id": "wEyc-oeNkJ8M",
        "outputId": "a70fc149-b9fa-4317-832b-b4f8c2ce9dad"
      },
      "outputs": [
        {
          "output_type": "stream",
          "name": "stdout",
          "text": [
            "244.92000000000002\n"
          ]
        }
      ],
      "source": [
        "# Calculate Surface Area Cylinder\n",
        "h = 10 # Pi\n",
        "r = 3 # Radius\n",
        "pi = 3.14 # Height\n",
        "\n",
        "# Calc Area\n",
        "area = 2 * pi * r ** 2 + 2 * pi * r * h\n",
        "# Display Result on Screen\n",
        "print(area)"
      ]
    },
    {
      "cell_type": "code",
      "source": [
        "p1 = input('Enter Move P1 (R->Rock, P->Paper, S->Scissor):')\n",
        "p2 = input('Enter Move P2 (R->Rock, P->Paper, S->Scissor):')\n",
        "\n",
        "if p1 == p2:\n",
        "  print('Draw')\n",
        "\n",
        "elif p1 == 'R' and p2 == 'S':\n",
        "  print('p1 wins')\n",
        "\n",
        "elif p1 == 'P' and p2 == 'R':\n",
        "  print('p1 wins')\n",
        "\n",
        "elif p1 == 'S' and p2 == 'P':\n",
        "  print ('p1 wins')\n",
        "\n",
        "else:\n",
        "  print ('p2 wins')"
      ],
      "metadata": {
        "colab": {
          "base_uri": "https://localhost:8080/"
        },
        "id": "LXFrB42csP4W",
        "outputId": "351347fa-b6bc-4b18-db58-38adb200ab4c"
      },
      "execution_count": null,
      "outputs": [
        {
          "output_type": "stream",
          "name": "stdout",
          "text": [
            "Enter Move P1 (R->Rock, P->Paper, S->Scissor):P\n",
            "Enter Move P2 (R->Rock, P->Paper, S->Scissor):S\n",
            "p2 wins\n"
          ]
        }
      ]
    },
    {
      "cell_type": "code",
      "source": [
        "input1 = float(input('Enter First Number:'))\n",
        "input2 = float(input('Enter Second Numner:'))\n",
        "input3 = input('Function(+,-,*,/,**):')\n",
        "\n",
        "\n",
        "if input3 == '+':\n",
        "  print( input1 + input2)\n",
        "\n",
        "elif input3 == '-':\n",
        "  print(input1 - input2)\n",
        "\n",
        "elif input3 == '*':\n",
        "  print(input1 * input2)\n",
        "\n",
        "elif input3 == '/':\n",
        "  print(input1 / input2)\n",
        "\n",
        "else:\n",
        "  print(input1 ** input2)\n"
      ],
      "metadata": {
        "id": "inC4zuMuxRTP",
        "colab": {
          "base_uri": "https://localhost:8080/"
        },
        "outputId": "42845fa0-7d05-41d3-a4b9-f650cdbcd2c6"
      },
      "execution_count": null,
      "outputs": [
        {
          "output_type": "stream",
          "name": "stdout",
          "text": [
            "Enter First Number:1\n",
            "Enter Second Numner:2\n",
            "Function(+,-,*,/,**):+\n",
            "3.0\n"
          ]
        }
      ]
    },
    {
      "cell_type": "code",
      "source": [
        "i = input('Do you want to play rock, paper, scissors?')\n",
        "\n",
        "while i == 'yes':\n",
        "\n",
        "  p1 = input('Enter Move P1 (R->Rock, P->Paper, S->Scissor):')\n",
        "  p2 = input('Enter Move P2 (R->Rock, P->Paper, S->Scissor):')\n",
        "\n",
        "  if p1 == p2:\n",
        "    print('Draw')\n",
        "\n",
        "  elif p1 == 'R' and p2 == 'S':\n",
        "    print('p1 wins')\n",
        "\n",
        "  elif p1 == 'P' and p2 == 'R':\n",
        "    print('p1 wins')\n",
        "\n",
        "  elif p1 == 'S' and p2 == 'P':\n",
        "    print ('p1 wins')\n",
        "\n",
        "  else:\n",
        "      print ('p2 wins')\n",
        "  i = input('Do you want to play another gane?')"
      ],
      "metadata": {
        "id": "H4MES-rG_2gl",
        "colab": {
          "base_uri": "https://localhost:8080/"
        },
        "outputId": "be4e5222-cc51-4148-df02-2ca4c2a2a9d6"
      },
      "execution_count": null,
      "outputs": [
        {
          "name": "stdout",
          "output_type": "stream",
          "text": [
            "Do you want to play rock, paper, scissors?yes\n",
            "Enter Move P1 (R->Rock, P->Paper, S->Scissor):R\n",
            "Enter Move P2 (R->Rock, P->Paper, S->Scissor):S\n",
            "p1 wins\n",
            "Do you want to play another gane?yes\n",
            "Enter Move P1 (R->Rock, P->Paper, S->Scissor):R\n",
            "Enter Move P2 (R->Rock, P->Paper, S->Scissor):P\n",
            "p2 wins\n",
            "Do you want to play another gane?no\n"
          ]
        }
      ]
    },
    {
      "cell_type": "code",
      "source": [
        "flatrate = 5\n",
        "hourlyrate = 2.5\n",
        "\n",
        "for h in range (1,9,1):\n",
        "  charge = flatrate + hourlyrate * h\n",
        "  if charge < 10:\n",
        "    charge = 10\n",
        "  elif charge > 20:\n",
        "    charge = 20\n",
        "  print(h, charge)\n"
      ],
      "metadata": {
        "id": "n9OQ8Ks21HZn",
        "colab": {
          "base_uri": "https://localhost:8080/"
        },
        "outputId": "cd93f5ee-1190-4843-8c5e-b725cee72bf2"
      },
      "execution_count": null,
      "outputs": [
        {
          "output_type": "stream",
          "name": "stdout",
          "text": [
            "1 10\n",
            "2 10.0\n",
            "3 12.5\n",
            "4 15.0\n",
            "5 17.5\n",
            "6 20.0\n",
            "7 20\n",
            "8 20\n"
          ]
        }
      ]
    },
    {
      "cell_type": "code",
      "source": [
        "ticket = 10\n",
        "fixedcost = 200\n",
        "fixedattendees = 20\n",
        "\n",
        "for AD in range(0,201,25):\n",
        "  additionalAttendees = round(2 * AD ** .5)\n",
        "  profit = ((additionalAttendees+fixedattendees) * ticket) - AD - fixedcost\n",
        "  print(AD, profit)\n",
        "\n"
      ],
      "metadata": {
        "colab": {
          "base_uri": "https://localhost:8080/"
        },
        "id": "6XUDC9rVDNgr",
        "outputId": "75a506c1-a5c0-4a30-8715-5a5381a415e2"
      },
      "execution_count": null,
      "outputs": [
        {
          "output_type": "stream",
          "name": "stdout",
          "text": [
            "0 0\n",
            "25 75\n",
            "50 90\n",
            "75 95\n",
            "100 100\n",
            "125 95\n",
            "150 90\n",
            "175 85\n",
            "200 80\n"
          ]
        }
      ]
    },
    {
      "cell_type": "code",
      "source": [
        "# write a program that repeatadly asks users for an integer input that adds to the list, until the user gives a 0, then terminates, use WHILE loop\n",
        "\n",
        "L = []\n",
        "\n",
        "item = int(input('Give a value: '))\n",
        "while item != 0:\n",
        "  L.append(item)\n",
        "  item = int(input('Give a value:'))\n",
        "print(L)"
      ],
      "metadata": {
        "id": "vAcNRN4orX3t",
        "colab": {
          "base_uri": "https://localhost:8080/"
        },
        "outputId": "185532f4-6206-4c2c-f41d-79ba7387e24c"
      },
      "execution_count": null,
      "outputs": [
        {
          "output_type": "stream",
          "name": "stdout",
          "text": [
            "Give a value: 1\n",
            "Give a value:2\n",
            "Give a value:3\n",
            "Give a value:0\n",
            "[1, 2, 3]\n"
          ]
        }
      ]
    },
    {
      "cell_type": "code",
      "source": [
        "L1 = [1,2,3,4]\n",
        "L2 = [1,2,5,6]\n",
        "\n",
        "for item in L1[:]:\n",
        "    if item in L2:\n",
        "     L1.remove(item)\n",
        "\n",
        "print(L1)"
      ],
      "metadata": {
        "colab": {
          "base_uri": "https://localhost:8080/"
        },
        "id": "qefjszHYNnYj",
        "outputId": "f6a04e7b-1fdd-48d9-9038-e26a67529844"
      },
      "execution_count": null,
      "outputs": [
        {
          "output_type": "stream",
          "name": "stdout",
          "text": [
            "[3, 4]\n"
          ]
        }
      ]
    },
    {
      "cell_type": "code",
      "source": [
        "months = {}\n",
        "\n",
        "names = [\"Jan\",\"Feb\",\"Mar\",\"April\",\"May\",\"Jun\",\"Jul\",\"Aug\",\"Sep\",\"Oct\",\"Nov\",\"Dec\"]\n",
        "number = [1,2,3,4,5,6,7,8,9,10,11,12]\n",
        "\n",
        "for idx in range(len(number)):\n",
        "  months[idx+1] = names[idx]\n",
        "months"
      ],
      "metadata": {
        "colab": {
          "base_uri": "https://localhost:8080/"
        },
        "id": "-IEqbECu9box",
        "outputId": "41f716b2-8510-46fa-928a-5465b9dbe54a"
      },
      "execution_count": 11,
      "outputs": [
        {
          "output_type": "execute_result",
          "data": {
            "text/plain": [
              "{1: 'Jan',\n",
              " 2: 'Feb',\n",
              " 3: 'Mar',\n",
              " 4: 'April',\n",
              " 5: 'May',\n",
              " 6: 'Jun',\n",
              " 7: 'Jul',\n",
              " 8: 'Aug',\n",
              " 9: 'Sep',\n",
              " 10: 'Oct',\n",
              " 11: 'Nov',\n",
              " 12: 'Dec'}"
            ]
          },
          "metadata": {},
          "execution_count": 11
        }
      ]
    }
  ]
}